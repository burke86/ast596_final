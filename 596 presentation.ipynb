{
 "cells": [
  {
   "cell_type": "markdown",
   "metadata": {
    "slideshow": {
     "slide_type": "slide"
    }
   },
   "source": [
    "# Using Random Forest to Predict Stellar Parameters\n",
    "\n",
    "## Sreevani Jarugula, Colin Burke, Breanna Lucero\n",
    "### ASTR 596: Fundamentals of Data Science"
   ]
  },
  {
   "cell_type": "markdown",
   "metadata": {
    "slideshow": {
     "slide_type": "slide"
    }
   },
   "source": [
    "# Original Implementation\n",
    "\n",
    "\"A Machine-Learning Method to Infer Fundamental Stellar Parameters from Photometric Light Curves\" (A. A. Miller, et. al. 2015)\n",
    "\n",
    "- employed random forest algorithm to perform a non-parametric regression that predicts $T_{eff}$, log g, and [Fe/H] using photometric time-domain observations\n",
    "- benefit: this framework will allow fundamental parameters to be determined without the need for additional spectroscopy"
   ]
  },
  {
   "cell_type": "markdown",
   "metadata": {
    "slideshow": {
     "slide_type": "slide"
    }
   },
   "source": [
    "# The Parameters\n",
    "\n",
    "## Effective Temperature\n",
    "- well established that photometric colrs are particularly useful for estimating $T_{eff}$\n",
    "\n",
    "## Metallicity\n",
    "- stellar atmospheres with enhanced metal content produce less flux in blue region of the optical\n",
    "- can leverage this fact to photometrically estimate [Fe/H] using broadband, blue photometric colors\n",
    "\n",
    "## Surface Gravity\n",
    "- stellar brightness variations on the timescales of several hours arise from granulation, which in turn, correlates with surface gravity g\n",
    "- requires high-quality ($\\sim$ 0.01 mmag precision), high-cadence (every 30 min) monitoring from space based telescopes\n"
   ]
  },
  {
   "cell_type": "markdown",
   "metadata": {
    "slideshow": {
     "slide_type": "slide"
    }
   },
   "source": [
    "# Survey & Training Set\n",
    "\n",
    "- SDSS Stripe 82: an equatorial, $\\sim$ 315 deg$^2$ field\n",
    "    - repeated scans for each of the ugriz filters\n",
    "    - includes $\\sim$ 9000 spectra\n",
    "    - stellar parameters measures using SEGUE Stellar Parameters Pipeline (SSPP)\n",
    "- University of Washington variable source catalog (UWVSC)\n",
    "    - used as the basis for spectroscopic survey of variability"
   ]
  },
  {
   "cell_type": "markdown",
   "metadata": {
    "slideshow": {
     "slide_type": "slide"
    }
   },
   "source": [
    "# Colors-only Estimates"
   ]
  },
  {
   "cell_type": "code",
   "execution_count": null,
   "metadata": {},
   "outputs": [],
   "source": [
    "#code presentation"
   ]
  },
  {
   "cell_type": "code",
   "execution_count": null,
   "metadata": {},
   "outputs": [],
   "source": [
    "#plots"
   ]
  },
  {
   "cell_type": "markdown",
   "metadata": {
    "slideshow": {
     "slide_type": "slide"
    }
   },
   "source": [
    "# All Light Curve Features"
   ]
  },
  {
   "cell_type": "code",
   "execution_count": null,
   "metadata": {},
   "outputs": [],
   "source": [
    "#code presentation"
   ]
  },
  {
   "cell_type": "code",
   "execution_count": null,
   "metadata": {},
   "outputs": [],
   "source": [
    "#plots"
   ]
  },
  {
   "cell_type": "markdown",
   "metadata": {
    "slideshow": {
     "slide_type": "slide"
    }
   },
   "source": [
    "# Colors & All LC Features"
   ]
  },
  {
   "cell_type": "code",
   "execution_count": null,
   "metadata": {},
   "outputs": [],
   "source": [
    "#code presentation"
   ]
  },
  {
   "cell_type": "code",
   "execution_count": null,
   "metadata": {},
   "outputs": [],
   "source": [
    "#plots"
   ]
  },
  {
   "cell_type": "markdown",
   "metadata": {
    "slideshow": {
     "slide_type": "slide"
    }
   },
   "source": [
    "# Comparison\n",
    "\n",
    "- Miller reports an optimized model with RMSE of 165K, 0.39 dex, and 0.33 dex for $T_{eff}$, log g, and [Fe/H], respectively."
   ]
  },
  {
   "cell_type": "code",
   "execution_count": null,
   "metadata": {},
   "outputs": [],
   "source": [
    "#histogram/side by side plots/something something"
   ]
  }
 ],
 "metadata": {
  "celltoolbar": "Slideshow",
  "kernelspec": {
   "display_name": "Python 3",
   "language": "python",
   "name": "python3"
  },
  "language_info": {
   "codemirror_mode": {
    "name": "ipython",
    "version": 3
   },
   "file_extension": ".py",
   "mimetype": "text/x-python",
   "name": "python",
   "nbconvert_exporter": "python",
   "pygments_lexer": "ipython3",
   "version": "3.7.4"
  }
 },
 "nbformat": 4,
 "nbformat_minor": 2
}
